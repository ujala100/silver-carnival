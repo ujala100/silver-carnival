{
 "cells": [
  {
   "cell_type": "code",
   "id": "initial_id",
   "metadata": {
    "collapsed": true,
    "ExecuteTime": {
     "end_time": "2025-06-16T12:02:32.318932Z",
     "start_time": "2025-06-16T12:02:32.169403Z"
    }
   },
   "source": [
    "import  numpy as np\n",
    "A=np.array([[1,2,3,4,5],\n",
    "           [6,7,8,9,10],\n",
    "           [11,12,13,14,15]])\n",
    "print(\"Original Matrix:\\n\",A)"
   ],
   "outputs": [
    {
     "name": "stdout",
     "output_type": "stream",
     "text": [
      "Original Matrix:\n",
      " [[ 1  2  3  4  5]\n",
      " [ 6  7  8  9 10]\n",
      " [11 12 13 14 15]]\n"
     ]
    }
   ],
   "execution_count": 1
  },
  {
   "metadata": {
    "ExecuteTime": {
     "end_time": "2025-06-16T12:02:32.631756Z",
     "start_time": "2025-06-16T12:02:32.621171Z"
    }
   },
   "cell_type": "code",
   "source": [
    "sliced=A[0:2,1:3]\n",
    "print(\"\\nSliced Matrix:\\n\",sliced)"
   ],
   "id": "c50732912bdf285d",
   "outputs": [
    {
     "name": "stdout",
     "output_type": "stream",
     "text": [
      "\n",
      "Sliced Matrix:\n",
      " [[2 3]\n",
      " [7 8]]\n"
     ]
    }
   ],
   "execution_count": 2
  },
  {
   "metadata": {
    "ExecuteTime": {
     "end_time": "2025-06-16T12:02:32.788885Z",
     "start_time": "2025-06-16T12:02:32.780718Z"
    }
   },
   "cell_type": "code",
   "source": [
    "V=np.array([1,2,3,4,5])\n",
    "broadcasted=A+V\n",
    "print(\"\\nBroadcasted Matrix:\\n\",broadcasted)"
   ],
   "id": "c2af51d7a78a2fdd",
   "outputs": [
    {
     "name": "stdout",
     "output_type": "stream",
     "text": [
      "\n",
      "Broadcasted Matrix:\n",
      " [[ 2  4  6  8 10]\n",
      " [ 7  9 11 13 15]\n",
      " [12 14 16 18 20]]\n"
     ]
    }
   ],
   "execution_count": 3
  },
  {
   "metadata": {
    "ExecuteTime": {
     "end_time": "2025-06-16T12:02:32.978227Z",
     "start_time": "2025-06-16T12:02:32.969954Z"
    }
   },
   "cell_type": "code",
   "source": [
    "bool_idx=A>6\n",
    "print(\"\\nBoolean Mask(A>6):\\n\",bool_idx)\n",
    "print(\"Elements>6:\\n\",A[bool_idx])"
   ],
   "id": "f5cb6d9a4da62d52",
   "outputs": [
    {
     "name": "stdout",
     "output_type": "stream",
     "text": [
      "\n",
      "Boolean Mask(A>6):\n",
      " [[False False False False False]\n",
      " [False  True  True  True  True]\n",
      " [ True  True  True  True  True]]\n",
      "Elements>6:\n",
      " [ 7  8  9 10 11 12 13 14 15]\n"
     ]
    }
   ],
   "execution_count": 4
  },
  {
   "metadata": {
    "ExecuteTime": {
     "end_time": "2025-06-16T12:02:33.092425Z",
     "start_time": "2025-06-16T12:02:33.086702Z"
    }
   },
   "cell_type": "code",
   "source": [
    "squared=A**2\n",
    "print(\"\\nSquared Matrix:\\n\",squared)"
   ],
   "id": "18754294f5bbcef1",
   "outputs": [
    {
     "name": "stdout",
     "output_type": "stream",
     "text": [
      "\n",
      "Squared Matrix:\n",
      " [[  1   4   9  16  25]\n",
      " [ 36  49  64  81 100]\n",
      " [121 144 169 196 225]]\n"
     ]
    }
   ],
   "execution_count": 5
  },
  {
   "metadata": {
    "ExecuteTime": {
     "end_time": "2025-06-16T12:02:33.170772Z",
     "start_time": "2025-06-16T12:02:33.163650Z"
    }
   },
   "cell_type": "code",
   "source": [
    "B=np.array([[1,2,3,4],\n",
    "            [3,4,5,6],\n",
    "            [5,6,7,8],\n",
    "            [7,8,9,10],\n",
    "            [4,5,6,8]])\n",
    "matmul=A@B\n",
    "print(\"\\nMatrix multiplication:\\n\",matmul)"
   ],
   "id": "7f7e3f88b3a8552",
   "outputs": [
    {
     "name": "stdout",
     "output_type": "stream",
     "text": [
      "\n",
      "Matrix multiplication:\n",
      " [[ 70  85 100 120]\n",
      " [170 210 250 300]\n",
      " [270 335 400 480]]\n"
     ]
    }
   ],
   "execution_count": 6
  }
 ],
 "metadata": {
  "kernelspec": {
   "display_name": "Python 3",
   "language": "python",
   "name": "python3"
  },
  "language_info": {
   "codemirror_mode": {
    "name": "ipython",
    "version": 2
   },
   "file_extension": ".py",
   "mimetype": "text/x-python",
   "name": "python",
   "nbconvert_exporter": "python",
   "pygments_lexer": "ipython2",
   "version": "2.7.6"
  }
 },
 "nbformat": 4,
 "nbformat_minor": 5
}
